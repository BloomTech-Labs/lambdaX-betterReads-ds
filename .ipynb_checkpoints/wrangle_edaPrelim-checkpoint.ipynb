{
 "cells": [
  {
   "cell_type": "code",
   "execution_count": 1,
   "metadata": {},
   "outputs": [
    {
     "name": "stderr",
     "output_type": "stream",
     "text": [
      "/home/joe/PythonRoot/anaconda3/lib/python3.7/importlib/_bootstrap.py:219: RuntimeWarning: numpy.ufunc size changed, may indicate binary incompatibility. Expected 192 from C header, got 216 from PyObject\n",
      "  return f(*args, **kwds)\n",
      "/home/joe/PythonRoot/anaconda3/lib/python3.7/importlib/_bootstrap.py:219: RuntimeWarning: numpy.ufunc size changed, may indicate binary incompatibility. Expected 192 from C header, got 216 from PyObject\n",
      "  return f(*args, **kwds)\n"
     ]
    }
   ],
   "source": [
    "import numpy as np\n",
    "import pandas as pd\n",
    "from matplotlib import pyplot as plt\n",
    "from sklearn.model_selection import train_test_split"
   ]
  },
  {
   "cell_type": "code",
   "execution_count": 15,
   "metadata": {},
   "outputs": [],
   "source": [
    "def wrangle(bx_ratings_loc, gb_books_loc, gb_ratings_loc):\n",
    "    gb_ratings = pd.read_csv(gb_ratings_loc)\n",
    "    gb_books = pd.read_csv(gb_books_loc)\n",
    "    bx_ratings = pd.read_csv(bx_ratings_loc, delimiter=';', encoding='iso-8859-1')\n",
    "    \n",
    "    merged = gb_ratings.merge(right=gb_books, on='book_id')\n",
    "    merged['ISBN'] = merged['isbn'].fillna(merged['isbn13'])\n",
    "    \n",
    "    gbx = pd.DataFrame()\n",
    "    \n",
    "    gbx[['User-ID', 'ISBN', 'Book-Rating']] = merged[['user_id', 'ISBN', 'rating']]\n",
    "    \n",
    "    gbx['Book-Rating'] = gbx['Book-Rating'].multiply(2)\n",
    "    gbx['Book-Rating'] = gbx['Book-Rating'].round(0)\n",
    "    \n",
    "    cc = pd.concat([bx_ratings, gbx])\n",
    "    cc['ISBN'] = cc['ISBN'].str.extract('(\\d+)', expand=False)\n",
    "    \n",
    "    cc['ISBN'] = cc['ISBN'].fillna(value='0').astype(int)\n",
    "    return cc"
   ]
  },
  {
   "cell_type": "code",
   "execution_count": 16,
   "metadata": {},
   "outputs": [],
   "source": [
    "baseline_data = wrangle(bx_ratings_loc='../data/BX-Book-Ratings.csv',\n",
    "                       gb_books_loc='../data/goodbooks-10k/books.csv',\n",
    "                       gb_ratings_loc='../data/goodbooks-10k/ratings.csv')"
   ]
  },
  {
   "cell_type": "code",
   "execution_count": 17,
   "metadata": {},
   "outputs": [
    {
     "data": {
      "text/html": [
       "<div>\n",
       "<style scoped>\n",
       "    .dataframe tbody tr th:only-of-type {\n",
       "        vertical-align: middle;\n",
       "    }\n",
       "\n",
       "    .dataframe tbody tr th {\n",
       "        vertical-align: top;\n",
       "    }\n",
       "\n",
       "    .dataframe thead th {\n",
       "        text-align: right;\n",
       "    }\n",
       "</style>\n",
       "<table border=\"1\" class=\"dataframe\">\n",
       "  <thead>\n",
       "    <tr style=\"text-align: right;\">\n",
       "      <th></th>\n",
       "      <th>User-ID</th>\n",
       "      <th>ISBN</th>\n",
       "      <th>Book-Rating</th>\n",
       "    </tr>\n",
       "  </thead>\n",
       "  <tbody>\n",
       "    <tr>\n",
       "      <th>count</th>\n",
       "      <td>7.126259e+06</td>\n",
       "      <td>7.126259e+06</td>\n",
       "      <td>7.126259e+06</td>\n",
       "    </tr>\n",
       "    <tr>\n",
       "      <th>mean</th>\n",
       "      <td>4.464381e+04</td>\n",
       "      <td>1.771270e+09</td>\n",
       "      <td>7.037402e+00</td>\n",
       "    </tr>\n",
       "    <tr>\n",
       "      <th>std</th>\n",
       "      <td>5.486276e+04</td>\n",
       "      <td>1.027662e+11</td>\n",
       "      <td>3.006308e+00</td>\n",
       "    </tr>\n",
       "    <tr>\n",
       "      <th>min</th>\n",
       "      <td>1.000000e+00</td>\n",
       "      <td>0.000000e+00</td>\n",
       "      <td>0.000000e+00</td>\n",
       "    </tr>\n",
       "    <tr>\n",
       "      <th>25%</th>\n",
       "      <td>1.479100e+04</td>\n",
       "      <td>1.430581e+08</td>\n",
       "      <td>6.000000e+00</td>\n",
       "    </tr>\n",
       "    <tr>\n",
       "      <th>50%</th>\n",
       "      <td>2.999000e+04</td>\n",
       "      <td>4.390235e+08</td>\n",
       "      <td>8.000000e+00</td>\n",
       "    </tr>\n",
       "    <tr>\n",
       "      <th>75%</th>\n",
       "      <td>4.572800e+04</td>\n",
       "      <td>7.394072e+08</td>\n",
       "      <td>1.000000e+01</td>\n",
       "    </tr>\n",
       "    <tr>\n",
       "      <th>max</th>\n",
       "      <td>2.788540e+05</td>\n",
       "      <td>1.000000e+13</td>\n",
       "      <td>1.000000e+01</td>\n",
       "    </tr>\n",
       "  </tbody>\n",
       "</table>\n",
       "</div>"
      ],
      "text/plain": [
       "            User-ID          ISBN   Book-Rating\n",
       "count  7.126259e+06  7.126259e+06  7.126259e+06\n",
       "mean   4.464381e+04  1.771270e+09  7.037402e+00\n",
       "std    5.486276e+04  1.027662e+11  3.006308e+00\n",
       "min    1.000000e+00  0.000000e+00  0.000000e+00\n",
       "25%    1.479100e+04  1.430581e+08  6.000000e+00\n",
       "50%    2.999000e+04  4.390235e+08  8.000000e+00\n",
       "75%    4.572800e+04  7.394072e+08  1.000000e+01\n",
       "max    2.788540e+05  1.000000e+13  1.000000e+01"
      ]
     },
     "execution_count": 17,
     "metadata": {},
     "output_type": "execute_result"
    }
   ],
   "source": [
    "baseline_data.describe()"
   ]
  },
  {
   "cell_type": "code",
   "execution_count": 18,
   "metadata": {},
   "outputs": [
    {
     "data": {
      "text/plain": [
       "Index(['User-ID', 'ISBN', 'Book-Rating'], dtype='object')"
      ]
     },
     "execution_count": 18,
     "metadata": {},
     "output_type": "execute_result"
    }
   ],
   "source": [
    "baseline_data.columns"
   ]
  },
  {
   "cell_type": "code",
   "execution_count": 19,
   "metadata": {},
   "outputs": [],
   "source": [
    "X_train, X_test, y_train, y_test = train_test_split(baseline_data[['User-ID', 'ISBN']], \n",
    "                                                    baseline_data['Book-Rating'], \n",
    "                                                    test_size=.2, \n",
    "                                                    random_state=42)"
   ]
  },
  {
   "cell_type": "code",
   "execution_count": 20,
   "metadata": {},
   "outputs": [],
   "source": [
    "from sklearn.neighbors import KNeighborsClassifier"
   ]
  },
  {
   "cell_type": "code",
   "execution_count": 21,
   "metadata": {},
   "outputs": [
    {
     "data": {
      "text/plain": [
       "KNeighborsClassifier(algorithm='auto', leaf_size=30, metric='minkowski',\n",
       "                     metric_params=None, n_jobs=-1, n_neighbors=5, p=2,\n",
       "                     weights='uniform')"
      ]
     },
     "execution_count": 21,
     "metadata": {},
     "output_type": "execute_result"
    }
   ],
   "source": [
    "knc = KNeighborsClassifier(n_jobs=-1)\n",
    "\n",
    "knc.fit(X_train, y_train)"
   ]
  },
  {
   "cell_type": "code",
   "execution_count": 22,
   "metadata": {},
   "outputs": [],
   "source": [
    "pred = knc.predict(X_test)"
   ]
  },
  {
   "cell_type": "code",
   "execution_count": 23,
   "metadata": {},
   "outputs": [
    {
     "data": {
      "text/plain": [
       "1.0"
      ]
     },
     "execution_count": 23,
     "metadata": {},
     "output_type": "execute_result"
    }
   ],
   "source": [
    "knc.score(X_test, pred)"
   ]
  },
  {
   "cell_type": "code",
   "execution_count": 28,
   "metadata": {},
   "outputs": [
    {
     "data": {
      "text/plain": [
       "[3788537     8\n",
       " 5387371     8\n",
       " 1557405    10\n",
       " 3817908     6\n",
       " 22067       8\n",
       " 149349      8\n",
       " 336049      0\n",
       " 108431      8\n",
       " 3612393     8\n",
       " 106021     10\n",
       " Name: Book-Rating, dtype: int64,\n",
       " array([ 8,  8,  8, 10,  6, 10,  0,  0, 10,  6])]"
      ]
     },
     "execution_count": 28,
     "metadata": {},
     "output_type": "execute_result"
    }
   ],
   "source": [
    "[y_test[:10], pred[:10]]"
   ]
  },
  {
   "cell_type": "code",
   "execution_count": 24,
   "metadata": {},
   "outputs": [
    {
     "data": {
      "text/plain": [
       "Int64Index([3788537, 5387371, 1557405, 3817908,   22067,  149349,  336049,\n",
       "             108431, 3612393,  106021,\n",
       "            ...\n",
       "             879882, 3764778,  410837,    2935, 4584661, 1342346, 2708780,\n",
       "            1045248, 1718560, 1712707],\n",
       "           dtype='int64', length=1425252)"
      ]
     },
     "execution_count": 24,
     "metadata": {},
     "output_type": "execute_result"
    }
   ],
   "source": [
    "y_test.index"
   ]
  },
  {
   "cell_type": "code",
   "execution_count": null,
   "metadata": {},
   "outputs": [],
   "source": []
  }
 ],
 "metadata": {
  "kernelspec": {
   "display_name": "Python 3",
   "language": "python",
   "name": "python3"
  },
  "language_info": {
   "codemirror_mode": {
    "name": "ipython",
    "version": 3
   },
   "file_extension": ".py",
   "mimetype": "text/x-python",
   "name": "python",
   "nbconvert_exporter": "python",
   "pygments_lexer": "ipython3",
   "version": "3.7.3"
  }
 },
 "nbformat": 4,
 "nbformat_minor": 4
}
